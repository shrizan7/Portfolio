{
 "cells": [
  {
   "cell_type": "code",
   "execution_count": 11,
   "metadata": {},
   "outputs": [],
   "source": [
    "# import libraries\n",
    "\n",
    "from bs4 import BeautifulSoup\n",
    "import requests\n",
    "import smtplib\n",
    "import time\n",
    "import datetime\n"
   ]
  },
  {
   "cell_type": "code",
   "execution_count": 12,
   "metadata": {},
   "outputs": [
    {
     "name": "stdout",
     "output_type": "stream",
     "text": [
      "\n",
      "\n",
      "\n",
      "\n",
      "\n",
      "           Imperial Barber Classic Pomade, 6 oz\n",
      "          \n",
      "\n",
      "\n",
      "\n",
      "\n",
      "\n",
      "\n",
      "            1,883 ratings\n",
      "           \n"
     ]
    }
   ],
   "source": [
    "# connecting to website and extracting data\n",
    "\n",
    "URL = 'https://www.amazon.com/dp/B00CB87BQ0?psc=1&ref=ppx_yo2ov_dt_b_product_details'\n",
    "headers = {\"User-Agent\": \"Mozilla/5.0 (Windows NT 10.0; Win64; x64) AppleWebKit/537.36 (KHTML, like Gecko) Chrome/113.0.0.0 Safari/537.36\", \"Accept-Encoding\":\"gzip, deflate\", \"Accept\":\"text/html,application/xhtml+xml,application/xml;q=0.9,*/*;q=0.8\", \"DNT\":\"1\",\"Connection\":\"close\", \"Upgrade-Insecure-Requests\":\"1\"}\n",
    "\n",
    "page = requests.get(URL,headers=headers)\n",
    "\n",
    "Soup1 = BeautifulSoup(page.content, \"html\")\n",
    "\n",
    "\n",
    "Soup2= BeautifulSoup(Soup1.prettify(), \"lxml\")\n",
    "\n",
    "title = Soup2.find(id=\"title_feature_div\").get_text()\n",
    "ratings = Soup2.find(id=\"acrCustomerReviewText\").get_text()\n",
    "\n",
    "print(title)\n",
    "print(ratings)\n"
   ]
  },
  {
   "cell_type": "code",
   "execution_count": 13,
   "metadata": {},
   "outputs": [
    {
     "name": "stdout",
     "output_type": "stream",
     "text": [
      "Imperial Barber Classic Pomade, 6 oz\n",
      "1,883 ratings\n"
     ]
    },
    {
     "data": {
      "text/plain": [
       "str"
      ]
     },
     "execution_count": 13,
     "metadata": {},
     "output_type": "execute_result"
    }
   ],
   "source": [
    "#\n",
    "ratings = ratings.strip()\n",
    "title= title.strip()\n",
    "print(title)\n",
    "print(ratings)\n",
    "type(ratings)"
   ]
  },
  {
   "cell_type": "code",
   "execution_count": 15,
   "metadata": {},
   "outputs": [
    {
     "name": "stdout",
     "output_type": "stream",
     "text": [
      "2023-05-18\n"
     ]
    }
   ],
   "source": [
    "import datetime\n",
    "today = datetime.date.today()\n",
    "print(today)"
   ]
  },
  {
   "cell_type": "code",
   "execution_count": 16,
   "metadata": {},
   "outputs": [],
   "source": [
    "#creating a csv to store extracted data\n",
    "\n",
    "import csv\n",
    "\n",
    "import os       # to store the csv in a desired filepath\n",
    "\n",
    "#\"C:\\Users\\shriz\\Desktop\\Portfolio projects\"\n",
    "\n",
    "desired_path =  \"C:\\\\Users\\\\shriz\\\\Desktop\\\\Portfolio projects\"  # \"\\\\\"\n",
    "file_path = os.path.join(\"C:\\\\Users\\\\shriz\\\\Desktop\\\\Portfolio projects\",\"AmazonPomadeDataset.csv\")\n",
    "#file_path = os.path.join(\"C:\\Users\\shriz\\Desktop\\Portfolio projects\",\"AmazonPomadeDataset.csv\")\n",
    "header = ['Title', 'Ratings','Date']\n",
    "data = [title, ratings, today]\n",
    "type[data]\n",
    "\n",
    "# commented to prevent deletiong when rerun \n",
    "#with open('AmazonPomadeDataset.csv','w', newline='',encoding= 'UTF8') as f:\n",
    "    #writer=csv.writer(f)\n",
    "    #writer.writerow(header)\n",
    "    #writer.writerow(data)\n",
    "\n"
   ]
  },
  {
   "cell_type": "code",
   "execution_count": 17,
   "metadata": {},
   "outputs": [
    {
     "name": "stdout",
     "output_type": "stream",
     "text": [
      "                                  Title        Ratings        Date\n",
      "0  Imperial Barber Classic Pomade, 6 oz  1,883 ratings  2023-05-18\n"
     ]
    }
   ],
   "source": [
    "#using pandas acces the csv\n",
    "import pandas as pd\n",
    "df = pd.read_csv(r\"C:\\\\Users\\\\shriz\\\\Desktop\\\\Portfolio projects\\\\AmazonPomadeDataset.csv\")\n",
    "print(df)"
   ]
  },
  {
   "cell_type": "code",
   "execution_count": 18,
   "metadata": {},
   "outputs": [],
   "source": [
    "#appending data to the file with 'a+'\n",
    "with open('AmazonPomadeDataset.csv','a+', newline='',encoding= 'UTF8') as f:\n",
    "    writer=csv.writer(f)\n",
    "    writer.writerow(data)"
   ]
  },
  {
   "cell_type": "code",
   "execution_count": 19,
   "metadata": {},
   "outputs": [],
   "source": [
    "# auotmating the ratings update \n",
    "\n",
    "def check_ratings():\n",
    "    URL = 'https://www.amazon.com/dp/B00CB87BQ0?psc=1&ref=ppx_yo2ov_dt_b_product_details'\n",
    "    headers = {\"User-Agent\": \"Mozilla/5.0 (Windows NT 10.0; Win64; x64) AppleWebKit/537.36 (KHTML, like Gecko) Chrome/113.0.0.0 Safari/537.36\", \"Accept-Encoding\":\"gzip, deflate\", \"Accept\":\"text/html,application/xhtml+xml,application/xml;q=0.9,*/*;q=0.8\", \"DNT\":\"1\",\"Connection\":\"close\", \"Upgrade-Insecure-Requests\":\"1\"}\n",
    "\n",
    "    page = requests.get(URL,headers=headers)\n",
    "\n",
    "    Soup1 = BeautifulSoup(page.content, \"html\")\n",
    "\n",
    "\n",
    "    Soup2= BeautifulSoup(Soup1.prettify(), \"lxml\")\n",
    "\n",
    "    title = Soup2.find(id=\"title_feature_div\").get_text()\n",
    "    ratings = Soup2.find(id=\"acrCustomerReviewText\").get_text()\n",
    "    ratings = ratings.strip()\n",
    "    title= title.strip()\n",
    "    import datetime\n",
    "    today = datetime.date.today()\n",
    "    \n",
    "    import csv\n",
    "    import os       # to store the csv in a desired filepath\n",
    "\n",
    "    #\"C:\\Users\\shriz\\Desktop\\Portfolio projects\"\n",
    "\n",
    "    desired_path =  \"C:\\\\Users\\\\shriz\\\\Desktop\\\\Portfolio projects\"  # \"\\\\\"\n",
    "    file_path = os.path.join(\"C:\\\\Users\\\\shriz\\\\Desktop\\\\Portfolio projects\",\"AmazonPomadeDataset.csv\")\n",
    "    #file_path = os.path.join(\"C:\\Users\\shriz\\Desktop\\Portfolio projects\",\"AmazonPomadeDataset.csv\")\n",
    "    header = ['Title', 'Ratings','Date']\n",
    "    data = [title, ratings, today]\n",
    "    with open('AmazonPomadeDataset.csv','a+', newline='',encoding= 'UTF8') as f:\n",
    "        writer=csv.writer(f)\n",
    "        writer.writerow(data)"
   ]
  },
  {
   "cell_type": "code",
   "execution_count": null,
   "metadata": {},
   "outputs": [],
   "source": [
    "while(True):\n",
    "    check_ratings()\n",
    "    \n",
    "    time.sleep(86400)"
   ]
  },
  {
   "cell_type": "code",
   "execution_count": null,
   "metadata": {},
   "outputs": [],
   "source": [
    "import pandas as pd\n",
    "df = pd.read_csv(r\"C:\\\\Users\\\\shriz\\\\Desktop\\\\Portfolio projects\\\\AmazonPomadeDataset.csv\")\n",
    "print(df)"
   ]
  },
  {
   "cell_type": "code",
   "execution_count": null,
   "metadata": {},
   "outputs": [],
   "source": []
  }
 ],
 "metadata": {
  "kernelspec": {
   "display_name": "Python 3",
   "language": "python",
   "name": "python3"
  },
  "language_info": {
   "codemirror_mode": {
    "name": "ipython",
    "version": 3
   },
   "file_extension": ".py",
   "mimetype": "text/x-python",
   "name": "python",
   "nbconvert_exporter": "python",
   "pygments_lexer": "ipython3",
   "version": "3.8.3"
  }
 },
 "nbformat": 4,
 "nbformat_minor": 2
}
